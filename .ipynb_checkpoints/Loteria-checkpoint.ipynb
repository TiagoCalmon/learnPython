{
 "cells": [
  {
   "cell_type": "code",
   "execution_count": 2,
   "metadata": {},
   "outputs": [
    {
     "name": "stdout",
     "output_type": "stream",
     "text": [
      "2534\n"
     ]
    }
   ],
   "source": [
    "import io, requests, pandas as pd, codecs\n",
    "from IPython.display import display_html\n",
    "from zipfile import ZipFile\n",
    "\n",
    "\n",
    "def GetAllGames():\n",
    "  #Busca os jogos no site da Caixa, faz a descompactação acessa o arquivo com \n",
    "  #os jogos e devolve uma string com o código HTML \n",
    "  #\n",
    "  r = requests.get('http://www1.caixa.gov.br/loterias/_arquivos/loterias/D_megase.zip')\n",
    "  ZipFile(io.BytesIO(r.content)).extractall()\n",
    "  #HtmlFile = open(\"d_mega.htm\", 'r', encoding=\"ascii\", errors=\"surrogateescape\")\n",
    "  HtmlFile = open(\"d_mega.htm\", 'r', encoding=\"latin-1\")\n",
    "  code=HtmlFile.read()\n",
    "  HtmlFile.close()\n",
    "  return code\n",
    "#print(source_code)\n",
    "#f=codecs.open(\"d_mega.htm\", 'rb')\n",
    "#strH = str(f.read())\n",
    "#print(source_code)\n",
    "\n",
    "#HtmlFile = open(\"d_mega.htm\", 'r', encoding=\"latin-1\")\n",
    "source_code = GetAllGames()\n",
    "#display_html(source_code, raw=True)\n",
    "dfs = pd.read_html(source_code)\n",
    "df = dfs[0]\n",
    "#print(len(df.Concurso))\n",
    "df[df.Concurso == 150]\n"
   ]
  },
  {
   "cell_type": "code",
   "execution_count": null,
   "metadata": {},
   "outputs": [],
   "source": []
  }
 ],
 "metadata": {
  "kernelspec": {
   "display_name": "Python 3",
   "language": "python",
   "name": "python3"
  },
  "language_info": {
   "codemirror_mode": {
    "name": "ipython",
    "version": 3
   },
   "file_extension": ".py",
   "mimetype": "text/x-python",
   "name": "python",
   "nbconvert_exporter": "python",
   "pygments_lexer": "ipython3",
   "version": "3.7.6"
  }
 },
 "nbformat": 4,
 "nbformat_minor": 4
}
